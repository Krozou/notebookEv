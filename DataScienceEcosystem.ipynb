{
 "cells": [
  {
   "cell_type": "markdown",
   "id": "8346b702-b960-4faa-9792-a14451a8779c",
   "metadata": {},
   "source": [
    "# Data Science Tools and Ecosystem"
   ]
  },
  {
   "cell_type": "markdown",
   "id": "3055ba19-89ce-4d54-8995-62a2c714be5f",
   "metadata": {},
   "source": [
    "### In this notebook, Data Science Tools and Ecosystem are summarized."
   ]
  },
  {
   "cell_type": "markdown",
   "id": "fdfe4865-8a65-41bb-a757-95b761e9186b",
   "metadata": {},
   "source": [
    "#### Some of the popular languages that Data Scientists use are:\n",
    "1. Python\n",
    "2. R\n",
    "3. Java"
   ]
  },
  {
   "cell_type": "markdown",
   "id": "f20821a2-3358-4388-9674-ff73ecd48a60",
   "metadata": {},
   "source": [
    "#### Some of the commonly used libraries used by Data Scientists include:\n",
    "1. Numpy\n",
    "2. Pandas\n",
    "3. Matplotlib\n",
    "4. dplyr\n",
    "5. ggplot"
   ]
  },
  {
   "cell_type": "markdown",
   "id": "05ade822-4b9d-4b97-b842-67f0a59d2a3c",
   "metadata": {},
   "source": [
    "#### Data Science Tools\n",
    "##### JupyterLab\n",
    "##### RStudio\n",
    "##### VS Code"
   ]
  },
  {
   "cell_type": "markdown",
   "id": "c68f9f08-cb63-4600-8e8c-339a0a2600a4",
   "metadata": {},
   "source": [
    "# Below are a few examples of evaluating arithmetic expressions in Python"
   ]
  },
  {
   "cell_type": "code",
   "execution_count": 14,
   "id": "5119c6c3-2912-4f56-8c6f-edf9198c4f94",
   "metadata": {},
   "outputs": [
    {
     "data": {
      "text/plain": [
       "17"
      ]
     },
     "execution_count": 14,
     "metadata": {},
     "output_type": "execute_result"
    }
   ],
   "source": [
    "#This a simple arithmetic expression to mutiply then add integers\n",
    "(3*4)+5"
   ]
  },
  {
   "cell_type": "code",
   "execution_count": 18,
   "id": "fbdf3704-9585-4e7e-83d5-b2f4aa6ff0be",
   "metadata": {},
   "outputs": [
    {
     "data": {
      "text/plain": [
       "3.3333333333333335"
      ]
     },
     "execution_count": 18,
     "metadata": {},
     "output_type": "execute_result"
    }
   ],
   "source": [
    "# This will convert 200 minutes to hours by dividing by 60\n",
    "200 / 60"
   ]
  },
  {
   "cell_type": "markdown",
   "id": "4dd17988-c7f3-4b8c-a0de-5d18e28216e2",
   "metadata": {},
   "source": [
    "### Objectives:\n",
    "* List of popular languages for Data Science\n",
    "* Overview of commonly used libraries in Data Science\n",
    "* Examples of Data Science tools\n",
    "* Evaluating simple arithmetic expressions in Python\n",
    "* Converting time units (minutes to hours)"
   ]
  },
  {
   "cell_type": "markdown",
   "id": "573aebcd-56de-45f5-8c81-9cb1181a1d79",
   "metadata": {},
   "source": [
    "## Author\n",
    "Krozou Aka"
   ]
  },
  {
   "cell_type": "code",
   "execution_count": null,
   "id": "6a6cdc86-691a-4839-b8d0-9fa18f8dba06",
   "metadata": {},
   "outputs": [],
   "source": []
  }
 ],
 "metadata": {
  "kernelspec": {
   "display_name": "Python 3 (ipykernel)",
   "language": "python",
   "name": "python3"
  },
  "language_info": {
   "codemirror_mode": {
    "name": "ipython",
    "version": 3
   },
   "file_extension": ".py",
   "mimetype": "text/x-python",
   "name": "python",
   "nbconvert_exporter": "python",
   "pygments_lexer": "ipython3",
   "version": "3.12.4"
  }
 },
 "nbformat": 4,
 "nbformat_minor": 5
}
